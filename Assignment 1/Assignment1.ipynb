{
 "cells": [
  {
   "cell_type": "markdown",
   "id": "c821643e-3df1-47d5-a7b7-b6dd807b7d0b",
   "metadata": {},
   "source": [
    "# Exercise 1"
   ]
  },
  {
   "cell_type": "markdown",
   "id": "b452f659-9e0c-4fcf-bbea-39dc41efa50e",
   "metadata": {},
   "source": [
    "a) No, we do not observe equal values for maximal activities along a linear pathway, while fluxes are forced to be equal in steady state due to mass balance constraints, maximal activities are instrinsic enzyme properties and this differs across different reactions, this is why reaction in the same linear pathway display varying activities rather than identical ones.\n",
    "b) EX_gln__L_e,EX_pyr_e\n",
    "\tExchange reactions dont represent enzymatic steps inside the cell but rather material flow across the system boundary. Maximal activity is derived from enzyme expression, exchange reactions are not catalysed by specific intracellular enzymes, therefore, there is no associated gene to the reaction and thus, no maximal activity.\n"
   ]
  },
  {
   "cell_type": "markdown",
   "id": "0a0238ac-4f1a-4e00-9995-85127d690438",
   "metadata": {},
   "source": [
    "# Exercise 2"
   ]
  },
  {
   "cell_type": "code",
   "execution_count": 44,
   "id": "bfd6913d-a017-4db2-a66f-2c58df3ab2ff",
   "metadata": {},
   "outputs": [],
   "source": [
    "import cobra\n",
    "from cobra.io import load_json_model\n",
    "import pandas as pd"
   ]
  },
  {
   "cell_type": "code",
   "execution_count": 36,
   "id": "186089a9-7130-409c-ba2f-f75c5b905a20",
   "metadata": {},
   "outputs": [],
   "source": [
    "\n",
    "# Load model\n",
    "model = load_json_model(\"e_coli_core.json\")\n",
    "\n",
    "max_activity = pd.read_csv(\"e_coli_core_expression.csv\")\n",
    "max_activity.columns = [col.strip() for col in max_activity.columns]\n",
    "\n",
    "max_activity_dict = dict(zip(max_activity[\"# Reaction ID\"], max_act[\"reaction activity [mmol/gDW/h]\"]))\n",
    "\n",
    "for reaction_key in max_act_dict:\n",
    "    # try:\n",
    "        reaction = model.reactions.get_by_id(reaction_key)\n",
    "        value = max_act_dict[reaction_key]\n",
    "    # Change reversible reactions bounds\n",
    "        if reaction.reversibility:\n",
    "            reaction.upper_bound = value\n",
    "            reaction.lower_bound = -value\n",
    "    # Change irreversible reaction bounds\n",
    "        else:\n",
    "            reaction.upper_bound = value\n",
    "            reaction.lower_bound = 0\n",
    "    # except KeyError:\n",
    "    #     pass\n",
    "             \n",
    "        \n",
    "\n",
    "        \n",
    "    \n",
    "        "
   ]
  },
  {
   "cell_type": "code",
   "execution_count": 43,
   "id": "95c2c2d5-ffbe-46e5-8087-011d886c9413",
   "metadata": {},
   "outputs": [
    {
     "name": "stdout",
     "output_type": "stream",
     "text": [
      "1000.0\n",
      "-1000\n",
      "PFK uppper bound: 12.12, lower bound: 0\n",
      "PFL uppper bound: 1.0, lower bound: 0\n",
      "PGI uppper bound: 13.12, lower bound: -13.12\n",
      "PGK uppper bound: 23.13, lower bound: -23.13\n",
      "PGL uppper bound: 8.12, lower bound: 0\n",
      "ACALD uppper bound: 1.16, lower bound: -1.16\n",
      "AKGt2r uppper bound: 3.1, lower bound: -3.1\n",
      "PGM uppper bound: 20.01, lower bound: -20.01\n",
      "PIt2r uppper bound: 6.03, lower bound: -6.03\n",
      "ALCD2x uppper bound: 9.01, lower bound: -9.01\n",
      "ACALDt uppper bound: 2.29, lower bound: -2.29\n",
      "ACKr uppper bound: 1.19, lower bound: -1.19\n",
      "PPC uppper bound: 2.56, lower bound: 0\n",
      "ACONTa uppper bound: 25.35, lower bound: -25.35\n",
      "ACONTb uppper bound: 25.35, lower bound: -25.35\n",
      "ATPM uppper bound: 1000.0, lower bound: 8.39\n",
      "PPCK uppper bound: 25.23, lower bound: 0\n",
      "ACt2r uppper bound: 3.23, lower bound: -3.23\n",
      "PPS uppper bound: 2.5, lower bound: 0\n",
      "ADK1 uppper bound: 30.57, lower bound: -30.57\n",
      "AKGDH uppper bound: 24.35, lower bound: 0\n",
      "ATPS4r uppper bound: 60.5, lower bound: -60.5\n",
      "PTAr uppper bound: 4.47, lower bound: -4.47\n",
      "PYK uppper bound: 26.78, lower bound: 0\n",
      "BIOMASS_Ecoli_core_w_GAM uppper bound: 1000.0, lower bound: 0.0\n",
      "PYRt2 uppper bound: 1.26, lower bound: -1.26\n",
      "CO2t uppper bound: 30.45, lower bound: -30.45\n",
      "RPE uppper bound: 5.67, lower bound: -5.67\n",
      "CS uppper bound: 20.56, lower bound: 0\n",
      "RPI uppper bound: 5.56, lower bound: -5.56\n",
      "SUCCt2_2 uppper bound: 2.36, lower bound: 0\n",
      "CYTBD uppper bound: 40.56, lower bound: 0\n",
      "D_LACt2 uppper bound: 4.56, lower bound: -4.56\n",
      "ENO uppper bound: 28.78, lower bound: -28.78\n",
      "SUCCt3 uppper bound: 6.67, lower bound: 0\n",
      "ETOHt2r uppper bound: 2.34, lower bound: -2.34\n",
      "SUCDi uppper bound: 24.34, lower bound: 0\n",
      "SUCOAS uppper bound: 20.6, lower bound: -20.6\n",
      "TALA uppper bound: 4.45, lower bound: -4.45\n",
      "THD2 uppper bound: 4.5, lower bound: 0\n",
      "TKT1 uppper bound: 3.34, lower bound: -3.34\n",
      "TKT2 uppper bound: 3.34, lower bound: -3.34\n",
      "TPI uppper bound: 45.56, lower bound: -45.56\n",
      "EX_ac_e uppper bound: 1000.0, lower bound: 0.0\n",
      "EX_acald_e uppper bound: 1000.0, lower bound: 0.0\n",
      "EX_akg_e uppper bound: 1000.0, lower bound: 0.0\n",
      "EX_co2_e uppper bound: 1000.0, lower bound: -1000.0\n",
      "EX_etoh_e uppper bound: 1000.0, lower bound: 0.0\n",
      "EX_for_e uppper bound: 1000.0, lower bound: 0.0\n",
      "EX_fru_e uppper bound: 1000.0, lower bound: 0.0\n",
      "EX_fum_e uppper bound: 1000.0, lower bound: 0.0\n",
      "EX_glc__D_e uppper bound: 1000.0, lower bound: -10.0\n",
      "EX_gln__L_e uppper bound: 1000.0, lower bound: 0.0\n",
      "EX_glu__L_e uppper bound: 1000.0, lower bound: -1000\n",
      "EX_h_e uppper bound: 1000.0, lower bound: -1000.0\n",
      "EX_h2o_e uppper bound: 1000.0, lower bound: -1000.0\n",
      "EX_lac__D_e uppper bound: 1000.0, lower bound: 0.0\n",
      "EX_mal__L_e uppper bound: 1000.0, lower bound: 0.0\n",
      "EX_nh4_e uppper bound: 1000.0, lower bound: -1000.0\n",
      "EX_o2_e uppper bound: 1000.0, lower bound: -1000.0\n",
      "EX_pi_e uppper bound: 1000.0, lower bound: -1000.0\n",
      "EX_pyr_e uppper bound: 1000.0, lower bound: 0.0\n",
      "EX_succ_e uppper bound: 1000.0, lower bound: 0.0\n",
      "FBA uppper bound: 24.45, lower bound: -24.45\n",
      "FBP uppper bound: 2.35, lower bound: 0\n",
      "FORt2 uppper bound: 1.28, lower bound: 0\n",
      "FORt uppper bound: 2.34, lower bound: 0\n",
      "FRD7 uppper bound: 20.07, lower bound: 0\n",
      "FRUpts2 uppper bound: 10.08, lower bound: 0\n",
      "FUM uppper bound: 24.35, lower bound: -24.35\n",
      "FUMt2_2 uppper bound: 2.45, lower bound: 0\n",
      "G6PDH2r uppper bound: 5.68, lower bound: -5.68\n",
      "GAPD uppper bound: 26.13, lower bound: -26.13\n",
      "GLCpts uppper bound: 16.34, lower bound: 0\n",
      "GLNS uppper bound: 3.45, lower bound: 0\n",
      "GLNabc uppper bound: 0.25, lower bound: 0\n",
      "GLUDy uppper bound: 7.35, lower bound: -7.35\n",
      "GLUN uppper bound: 6.25, lower bound: 0\n",
      "GLUSy uppper bound: 7.35, lower bound: 0\n",
      "GLUt2r uppper bound: 4.12, lower bound: -4.12\n",
      "GND uppper bound: 6.72, lower bound: 0\n",
      "H2Ot uppper bound: 20.06, lower bound: -20.06\n",
      "ICDHyr uppper bound: 15.06, lower bound: -15.06\n",
      "ICL uppper bound: 14.07, lower bound: 0\n",
      "LDH_D uppper bound: 2.07, lower bound: -2.07\n",
      "MALS uppper bound: 9.12, lower bound: 0\n",
      "MALt2_2 uppper bound: 8.87, lower bound: 0\n",
      "MDH uppper bound: 4.26, lower bound: -4.26\n",
      "ME1 uppper bound: 3.24, lower bound: 0\n",
      "ME2 uppper bound: 3.34, lower bound: 0\n",
      "NADH16 uppper bound: 20.26, lower bound: 0\n",
      "NADTRHD uppper bound: 1.26, lower bound: 0\n",
      "NH4t uppper bound: 3.45, lower bound: -3.45\n",
      "O2t uppper bound: 40.67, lower bound: -40.67\n",
      "PDH uppper bound: 32.32, lower bound: 0\n"
     ]
    }
   ],
   "source": [
    "# glucose exhange reaction\n",
    "glucose_ex = model.reactions.get_by_id(\"EX_glu__L_e\")\n",
    "print(glucose_ex.upper_bound)\n",
    "print(glucose_ex.lower_bound)\n",
    "\n",
    "# We just need to change lower bound as upper bound is already 1000\n",
    "\n",
    "glucose_ex.lower_bound = -1000\n",
    "\n",
    "\n",
    "# ATPM \n",
    "atpm = model.reactions.get_by_id(\"ATPM\")\n",
    "\n",
    "for reac in model.reactions:\n",
    "    print(f\"{reac.id} uppper bound: {reac.upper_bound}, lower bound: {reac.lower_bound}\")\n",
    "    \n",
    "                       "
   ]
  },
  {
   "cell_type": "markdown",
   "id": "d08cb4a5-d360-40bd-8631-9629d7b51f26",
   "metadata": {},
   "source": [
    "# Exercise 3"
   ]
  },
  {
   "cell_type": "markdown",
   "id": "a7bf6b37-81ca-4b2d-9c7a-8698f0a2709f",
   "metadata": {},
   "source": [
    "### a)"
   ]
  },
  {
   "cell_type": "code",
   "execution_count": 45,
   "id": "a7a7d3ce-3c3f-4221-8fa1-5e1fb705c1fe",
   "metadata": {},
   "outputs": [
    {
     "name": "stdout",
     "output_type": "stream",
     "text": [
      "Reaction ID\tMin Flux\tMax Flux\n",
      "PFK\t4.87817213515311\t4.878172135152738\n",
      "PFL\t3.453562173728181e-13\t0.0\n",
      "PGI\t5.29157178464768\t5.291571784646887\n",
      "PGK\t-9.406182151087208\t-9.406182151087776\n",
      "PGL\t0.0\t-6.92440013346954e-13\n",
      "ACALD\t-1.16\t-1.1600000000000965\n",
      "AKGt2r\t1.875941920547251e-13\t0.0\n",
      "PGM\t-8.623041875484747\t-8.623041875485313\n",
      "PIt2r\t1.9257607833280492\t1.92576078332804\n",
      "ALCD2x\t-1.16\t-1.1600000000001438\n",
      "ACALDt\t1.415413863569169e-13\t-2.1131382567667543e-14\n",
      "ACKr\t-1.19\t-1.1900000000001527\n",
      "PPC\t0.0\t-2.4942245635375176e-13\n",
      "ACONTa\t1.8463120703642544\t1.8463120703638862\n",
      "ACONTb\t1.8463120703642164\t1.8463120703638847\n",
      "ATPM\t8.39\t8.389999999999878\n",
      "PPCK\t0.0\t-2.769760053387808e-13\n",
      "ACt2r\t-1.19\t-1.1900000000001507\n",
      "PPS\t0.0\t-1.1916850692457032e-13\n",
      "ADK1\t0.0\t-1.2880833507502013e-13\n",
      "AKGDH\t5.401519260639961\t5.401519260639652\n",
      "ATPS4r\t25.76182197337541\t25.761821973374744\n",
      "PTAr\t1.1900000000001523\t1.19\n",
      "PYK\t2.952411351825075\t2.952411351824594\n",
      "BIOMASS_Ecoli_core_w_GAM\t0.523489489039076\t0.5234894890390742\n",
      "PYRt2\t-1.26\t-1.2600000000003055\n",
      "CO2t\t-16.02596582859775\t-16.02596582859823\n",
      "RPE\t-0.3762842447212864\t-0.37628424472168864\n",
      "CS\t1.8463120703641889\t1.8463120703638805\n",
      "RPI\t-0.37628424472108646\t-0.3762842447212878\n",
      "SUCCt2_2\t0.0\t-1.6258163311409504e-13\n",
      "CYTBD\t25.661519260639963\t25.661519260639658\n",
      "D_LACt2\t-2.0700000000000003\t-2.070000000000121\n",
      "ENO\t8.623041875485317\t8.623041875484795\n",
      "SUCCt3\t0.0\t-1.6258163311409504e-13\n",
      "ETOHt2r\t-1.16\t-1.1600000000001514\n",
      "SUCDi\t5.4015192606399935\t24.34\n",
      "SUCOAS\t-5.401519260639655\t-5.401519260639961\n",
      "TALA\t-0.0936522695890904\t-0.0936522695892844\n",
      "THD2\t0.9543953471635361\t0.9543953471631877\n",
      "TKT1\t-0.09365226958909036\t-0.09365226958929396\n",
      "TKT2\t-0.2826319751321962\t-0.2826319751323908\n",
      "TPI\t4.87817213515311\t4.878172135152723\n",
      "EX_ac_e\t1.190000000000151\t1.19\n",
      "EX_acald_e\t0.0\t-1.4345438215949562e-13\n",
      "EX_akg_e\t0.0\t-1.820469433950872e-13\n",
      "EX_co2_e\t16.025965828598203\t16.02596582859775\n",
      "EX_etoh_e\t1.1600000000001416\t1.16\n",
      "EX_for_e\t0.0\t0.0\n",
      "EX_fru_e\t0.0\t0.0\n",
      "EX_fum_e\t0.0\t0.0\n",
      "EX_glc__D_e\t-5.398887129899891\t-5.398887129900174\n",
      "EX_gln__L_e\t0.0\t-1.5766309061350303e-13\n",
      "EX_glu__L_e\t-4.12\t-4.120000000000221\n",
      "EX_h_e\t6.781199150124187\t6.781199150123404\n",
      "EX_h2o_e\t11.69927266255431\t11.699272662553922\n",
      "EX_lac__D_e\t2.0700000000001224\t2.0700000000000003\n",
      "EX_mal__L_e\t0.0\t0.0\n",
      "EX_nh4_e\t1.2655165141679439\t1.265516514167727\n",
      "EX_o2_e\t-12.830759630319829\t-12.830759630319983\n",
      "EX_pi_e\t-1.9257607833280528\t-1.9257607833280515\n",
      "EX_pyr_e\t1.2599999999999998\t1.2599999999999998\n",
      "EX_succ_e\t0.0\t-1.5498469077513782e-13\n",
      "FBA\t4.878172135153137\t4.878172135152734\n",
      "FBP\t0.0\t-1.219362248355713e-13\n",
      "FORt2\t0.0\t-2.0605146662813e-13\n",
      "FORt\t0.0\t-3.6088528288070503e-13\n",
      "FRD7\t0.0\t18.93848073936004\n",
      "FRUpts2\t0.0\t0.0\n",
      "FUM\t5.401519260639966\t5.4015192606396605\n",
      "FUMt2_2\t0.0\t0.0\n",
      "G6PDH2r\t0.0\t-5.819857314920876e-13\n",
      "GAPD\t9.406182151087775\t9.406182151087236\n",
      "GLCpts\t5.398887129900174\t5.398887129899898\n",
      "GLNS\t0.1338562623472917\t0.13385626234716974\n",
      "GLNabc\t1.7311000333673787e-13\t0.0\n",
      "GLUDy\t1.399372776515245\t1.399372776514897\n",
      "GLUN\t0.0\t-1.2031017840337934e-13\n",
      "GLUSy\t0.0\t-1.2179349808000882e-13\n",
      "GLUt2r\t4.120000000000222\t4.12\n",
      "GND\t0.0\t-6.110821855068139e-13\n",
      "H2Ot\t-11.699272662554245\t-11.69927266255442\n",
      "ICDHyr\t1.846312070364214\t1.846312070363889\n",
      "ICL\t0.0\t-1.219362248355713e-13\n",
      "LDH_D\t-2.07\t-2.070000000000125\n",
      "MALS\t0.0\t-1.2017506089443153e-13\n",
      "MALt2_2\t0.0\t0.0\n",
      "MDH\t2.781630740430332\t2.781630740429852\n",
      "ME1\t0.0\t-2.4387244967114254e-13\n",
      "ME2\t2.619888520209854\t2.619888520209414\n",
      "NADH16\t20.26000000000007\t20.26\n",
      "NADTRHD\t0.0\t-2.3753647320546756e-13\n",
      "NH4t\t-1.265516514167727\t-1.2655165141679532\n",
      "O2t\t12.830759630319976\t12.830759630319829\n",
      "PDH\t6.158245977384865\t6.158245977384506\n"
     ]
    }
   ],
   "source": [
    "from cobra.flux_analysis import flux_variability_analysis\n",
    "\n",
    "fva_result = flux_variability_analysis(model, reaction_list=model.reactions)\n",
    "print(\"Reaction ID\\tMin Flux\\tMax Flux\")\n",
    "for rxn_id, row in fva_result.iterrows():\n",
    "    print(f\"{rxn_id}\\t{row['minimum']}\\t{row['maximum']}\")"
   ]
  },
  {
   "cell_type": "markdown",
   "id": "55da3f59-6fa2-4202-9e51-e449da3e8bf1",
   "metadata": {},
   "source": [
    "### b)"
   ]
  },
  {
   "cell_type": "code",
   "execution_count": 48,
   "id": "bfd4ad59-9440-48f0-96c3-a8d4c8aeff0a",
   "metadata": {},
   "outputs": [
    {
     "name": "stdout",
     "output_type": "stream",
     "text": [
      "Number of reactions with constrained maximal flux: 36\n",
      "Reactions: ['PFK', 'PGI', 'PIt2r', 'ACONTa', 'ACONTb', 'ATPM', 'AKGDH', 'ATPS4r', 'PTAr', 'PYK', 'BIOMASS_Ecoli_core_w_GAM', 'CS', 'CYTBD', 'ENO', 'THD2', 'TPI', 'EX_ac_e', 'EX_co2_e', 'EX_etoh_e', 'EX_h_e', 'EX_h2o_e', 'EX_lac__D_e', 'EX_nh4_e', 'EX_pyr_e', 'FBA', 'FRD7', 'FUM', 'GAPD', 'GLCpts', 'GLNS', 'GLUDy', 'ICDHyr', 'MDH', 'ME2', 'O2t', 'PDH']\n"
     ]
    }
   ],
   "source": [
    "constrained_reactions = []\n",
    "\n",
    "for reaction in model.reactions:\n",
    "    if reaction.id == \"FORt\":\n",
    "        continue\n",
    "    max_flux = fva_result.loc[reaction.id, \"maximum\"]\n",
    "    if max_flux >0 and max_flux < reaction.upper_bound:\n",
    "        constrained_reactions.append(reaction.id)\n",
    "\n",
    "print(f\"Number of reactions with constrained maximal flux: {len(constrained_reactions)}\")\n",
    "print(\"Reactions:\", constrained_reactions)\n",
    "\n",
    "        \n",
    "\n",
    "        "
   ]
  },
  {
   "cell_type": "markdown",
   "id": "aa2c563f-8fc5-4d70-a463-71b97ab9d063",
   "metadata": {},
   "source": [
    "Reactions behave this way due to certain network and regulatory constraints, even though the reaction could theoretically go up to its reaction upper bound, FVA respects all constraints simoultaneously, serving as a bottleneck to the flux.\n",
    "Thus, the reaction is limited by the network contraints."
   ]
  },
  {
   "cell_type": "markdown",
   "id": "2181f3af-af53-4f12-a21e-55abeb528e72",
   "metadata": {},
   "source": [
    "### c)"
   ]
  },
  {
   "cell_type": "code",
   "execution_count": 50,
   "id": "ce4e0ea2-223d-4d69-abc3-53737d1b2d20",
   "metadata": {},
   "outputs": [
    {
     "name": "stdout",
     "output_type": "stream",
     "text": [
      "Number of reactions with positive minimal flux: 42\n",
      "Reactions: ['PFK', 'PFL', 'PGI', 'AKGt2r', 'PIt2r', 'ACALDt', 'ACONTa', 'ACONTb', 'ATPM', 'AKGDH', 'ATPS4r', 'PTAr', 'PYK', 'BIOMASS_Ecoli_core_w_GAM', 'CS', 'CYTBD', 'ENO', 'SUCDi', 'THD2', 'TPI', 'EX_ac_e', 'EX_co2_e', 'EX_etoh_e', 'EX_h_e', 'EX_h2o_e', 'EX_lac__D_e', 'EX_nh4_e', 'EX_pyr_e', 'FBA', 'FUM', 'GAPD', 'GLCpts', 'GLNS', 'GLNabc', 'GLUDy', 'GLUt2r', 'ICDHyr', 'MDH', 'ME2', 'NADH16', 'O2t', 'PDH']\n"
     ]
    }
   ],
   "source": [
    "pos_min_flux_reac = []\n",
    "for reaction_id, row in fva_result.iterrows():\n",
    "    if row['minimum'] >0:\n",
    "        pos_min_flux_reac.append(reaction_id)\n",
    "        \n",
    "print(f\"Number of reactions with positive minimal flux: {len(pos_min_flux_reac)}\")\n",
    "print(\"Reactions:\", pos_min_flux_reac)"
   ]
  },
  {
   "cell_type": "markdown",
   "id": "8eaa79c6-991c-4e8c-ac1e-906562ad2649",
   "metadata": {},
   "source": [
    "Reactions behave this way due to\"\n",
    "- to satisfy stoichiometry,  mass balance or biomass production\n",
    "- Part of a pathway where flux must flow continously\n",
    "- Gene exression or transport constraint may also enforce minimal flux directly\n",
    "\n",
    "These reactions essentially are always on the feasible solution space, so the network requires them to alsway carry some flux,"
   ]
  },
  {
   "cell_type": "markdown",
   "id": "78df6097-aae5-40bf-ab70-d23cb1c577f8",
   "metadata": {},
   "source": [
    "# Exercise 4"
   ]
  },
  {
   "cell_type": "markdown",
   "id": "adc5c527-bf78-47c7-8b13-b9f6d4f7b6b6",
   "metadata": {},
   "source": [
    "### a) "
   ]
  },
  {
   "cell_type": "code",
   "execution_count": 51,
   "id": "3fac9be4-2262-4b2e-98e1-4af7129ef353",
   "metadata": {},
   "outputs": [
    {
     "name": "stdout",
     "output_type": "stream",
     "text": [
      "BIOMASS_Ecoli_core_w_GAM\n"
     ]
    }
   ],
   "source": [
    "for reaction in model.reactions:\n",
    "    if \"biomass\" in rxn.id.lower():\n",
    "        print(rxn.id)"
   ]
  },
  {
   "cell_type": "code",
   "execution_count": 54,
   "id": "1eaa20c9-fb78-4ffa-b8d7-c79bfd82bdf1",
   "metadata": {},
   "outputs": [
    {
     "name": "stdout",
     "output_type": "stream",
     "text": [
      "Maximal biomass production rate: 0.5234894890390746\n"
     ]
    }
   ],
   "source": [
    "model.objective = model.reactions.get_by_id(\"BIOMASS_Ecoli_core_w_GAM\")\n",
    "\n",
    "solution = model.optimize()\n",
    "\n",
    "print(f\"Maximal biomass production rate: {solution.objective_value}\")\n",
    "\n",
    "\n"
   ]
  },
  {
   "cell_type": "markdown",
   "id": "12ac4c66-598b-495d-8502-7e39aa20610b",
   "metadata": {},
   "source": [
    "### b)"
   ]
  },
  {
   "cell_type": "code",
   "execution_count": 58,
   "id": "c2f69ab9-d9aa-4d01-b69f-6e60cc98cde7",
   "metadata": {},
   "outputs": [
    {
     "name": "stdout",
     "output_type": "stream",
     "text": [
      "Number of bottleneck reactions: 2\n",
      "Bottleneck reactions: ['GLUt2r', 'NADH16']\n"
     ]
    }
   ],
   "source": [
    "bottlenecks = []\n",
    "\n",
    "for reaction in model.reactions:\n",
    "    flux = solution.fluxes[reaction.id]\n",
    "    if flux == reaction.upper_bound: # reaction reached its maximum flux\n",
    "        bottlenecks.append(reaction.id)\n",
    "print(f\"Number of bottleneck reactions: {len(bottlenecks)}\")\n",
    "print(\"Bottleneck reactions:\", bottlenecks)\n"
   ]
  },
  {
   "cell_type": "markdown",
   "id": "6ffec136-5702-436a-80ff-e986781750e1",
   "metadata": {},
   "source": [
    "### c)"
   ]
  },
  {
   "cell_type": "code",
   "execution_count": 62,
   "id": "f1040959-ee9f-44da-a5f6-2c82802f79df",
   "metadata": {},
   "outputs": [
    {
     "name": "stdout",
     "output_type": "stream",
     "text": [
      "Reactions with maximal activity constraints: ['PFK', 'PFL', 'PGI', 'PGK', 'PGL', 'ACALD', 'AKGt2r', 'PGM', 'PIt2r', 'ALCD2x', 'ACALDt', 'ACKr', 'PPC', 'ACONTa', 'ACONTb', 'PPCK', 'ACt2r', 'PPS', 'ADK1', 'AKGDH', 'ATPS4r', 'PTAr', 'PYK', 'PYRt2', 'CO2t', 'RPE', 'CS', 'RPI', 'SUCCt2_2', 'CYTBD', 'D_LACt2', 'ENO', 'SUCCt3', 'ETOHt2r', 'SUCDi', 'SUCOAS', 'TALA', 'THD2', 'TKT1', 'TKT2', 'TPI', 'FBA', 'FBP', 'FORt2', 'FORt', 'FRD7', 'FRUpts2', 'FUM', 'FUMt2_2', 'G6PDH2r', 'GAPD', 'GLCpts', 'GLNS', 'GLNabc', 'GLUDy', 'GLUN', 'GLUSy', 'GLUt2r', 'GND', 'H2Ot', 'ICDHyr', 'ICL', 'LDH_D', 'MALS', 'MALt2_2', 'MDH', 'ME1', 'ME2', 'NADH16', 'NADTRHD', 'NH4t', 'O2t', 'PDH']\n",
      "Example reaction with maximal activity but zero flux: PFL\n"
     ]
    }
   ],
   "source": [
    "maximal_constrained_reactions = []\n",
    "for reaction in model.reactions:\n",
    "    if reaction.upper_bound < 1000:\n",
    "        maximal_constrained_reactions.append(reaction)\n",
    "print(f\"Reactions with maximal activity constraints: {[reaction.id for reaction in maximal_constrained_reactions]}\")\n",
    "\n",
    "zero_flux_reactions = []\n",
    "for reaction in maximal_constrained_reactions:\n",
    "    if solution.fluxes[reaction.id] == 0:\n",
    "        zero_flux_reactions.append(reaction)\n",
    "\n",
    "print(f\"Example reaction with maximal activity but zero flux: {zero_flux_reactions[0].id}\")\n",
    "\n",
    "        \n",
    "        \n",
    "    \n"
   ]
  },
  {
   "cell_type": "markdown",
   "id": "424d1b79-e31b-479f-a06d-3d1255723ac7",
   "metadata": {},
   "source": [
    "PFL reaction converts pyruvate to formate and acetyl-CoA.\n",
    "Pyruvate can also be converted to acetyl-CoA via PDH or other reactions, and under maximal biomass optimisation, the network may choose other pathway that maximise growth, ignoring PFL.\n",
    "PFL is anaerobic, so the network may prefer PDH under aeorbic conditions.\n",
    "In summary, PFL has  maximal flux constraint, but in the FBA solution for maximal biomass, its flux is zero, this can be because the network can convert pyruvate to acetyl-CoA via PDH instad, which  is a more favorable alterative for biomass maximisation"
   ]
  },
  {
   "cell_type": "code",
   "execution_count": null,
   "id": "431a124c-c843-4bd4-81ad-2bcab976c735",
   "metadata": {},
   "outputs": [],
   "source": []
  }
 ],
 "metadata": {
  "kernelspec": {
   "display_name": "Python 3 (ipykernel)",
   "language": "python",
   "name": "python3"
  },
  "language_info": {
   "codemirror_mode": {
    "name": "ipython",
    "version": 3
   },
   "file_extension": ".py",
   "mimetype": "text/x-python",
   "name": "python",
   "nbconvert_exporter": "python",
   "pygments_lexer": "ipython3",
   "version": "3.12.7"
  }
 },
 "nbformat": 4,
 "nbformat_minor": 5
}
