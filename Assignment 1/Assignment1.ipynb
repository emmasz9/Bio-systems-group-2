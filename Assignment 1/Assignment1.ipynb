{
 "cells": [
  {
   "cell_type": "markdown",
   "id": "c821643e-3df1-47d5-a7b7-b6dd807b7d0b",
   "metadata": {},
   "source": [
    "# Exercise 1"
   ]
  },
  {
   "cell_type": "markdown",
   "id": "b452f659-9e0c-4fcf-bbea-39dc41efa50e",
   "metadata": {},
   "source": [
    "a) No, we do not observe equal values for maximal activities along a linear pathway, while fluxes are forced to be equal in steady state due to mass balance constraints, maximal activities are instrinsic enzyme properties and this differs across different reactions, this is why reaction in the same linear pathway display varying activities rather than identical ones.\n",
    "b) EX_gln__L_e,EX_pyr_e\n",
    "\tExchange reactions dont represent enzymatic steps inside the cell but rather material flow across the system boundary. Maximal activity is derived from enzyme expression, exchange reactions are not catalysed by specific intracellular enzymes, therefore, there is no associated gene to the reaction and thus, no maximal activity.\n"
   ]
  },
  {
   "cell_type": "markdown",
   "id": "0a0238ac-4f1a-4e00-9995-85127d690438",
   "metadata": {},
   "source": [
    "# Exercise 2"
   ]
  },
  {
   "cell_type": "code",
   "execution_count": 44,
   "id": "bfd6913d-a017-4db2-a66f-2c58df3ab2ff",
   "metadata": {},
   "outputs": [],
   "source": [
    "import cobra\n",
    "from cobra.io import load_json_model\n",
    "import pandas as pd"
   ]
  },
  {
   "cell_type": "code",
   "execution_count": 36,
   "id": "186089a9-7130-409c-ba2f-f75c5b905a20",
   "metadata": {},
   "outputs": [],
   "source": [
    "\n",
    "# Load model\n",
    "model = load_json_model(\"e_coli_core.json\")\n",
    "\n",
    "max_activity = pd.read_csv(\"e_coli_core_expression.csv\")\n",
    "max_activity.columns = [col.strip() for col in max_activity.columns]\n",
    "\n",
    "max_activity_dict = dict(zip(max_activity[\"# Reaction ID\"], max_act[\"reaction activity [mmol/gDW/h]\"]))\n",
    "\n",
    "for reaction_key in max_act_dict:\n",
    "    # try:\n",
    "        reaction = model.reactions.get_by_id(reaction_key)\n",
    "        value = max_act_dict[reaction_key]\n",
    "    # Change reversible reactions bounds\n",
    "        if reaction.reversibility:\n",
    "            reaction.upper_bound = value\n",
    "            reaction.lower_bound = -value\n",
    "    # Change irreversible reaction bounds\n",
    "        else:\n",
    "            reaction.upper_bound = value\n",
    "            reaction.lower_bound = 0\n",
    "    # except KeyError:\n",
    "    #     pass\n",
    "             \n",
    "        \n",
    "\n",
    "        \n",
    "    \n",
    "        "
   ]
  },
  {
   "cell_type": "code",
   "execution_count": 43,
   "id": "95c2c2d5-ffbe-46e5-8087-011d886c9413",
   "metadata": {},
   "outputs": [
    {
     "name": "stdout",
     "output_type": "stream",
     "text": [
      "1000.0\n",
      "-1000\n",
      "PFK uppper bound: 12.12, lower bound: 0\n",
      "PFL uppper bound: 1.0, lower bound: 0\n",
      "PGI uppper bound: 13.12, lower bound: -13.12\n",
      "PGK uppper bound: 23.13, lower bound: -23.13\n",
      "PGL uppper bound: 8.12, lower bound: 0\n",
      "ACALD uppper bound: 1.16, lower bound: -1.16\n",
      "AKGt2r uppper bound: 3.1, lower bound: -3.1\n",
      "PGM uppper bound: 20.01, lower bound: -20.01\n",
      "PIt2r uppper bound: 6.03, lower bound: -6.03\n",
      "ALCD2x uppper bound: 9.01, lower bound: -9.01\n",
      "ACALDt uppper bound: 2.29, lower bound: -2.29\n",
      "ACKr uppper bound: 1.19, lower bound: -1.19\n",
      "PPC uppper bound: 2.56, lower bound: 0\n",
      "ACONTa uppper bound: 25.35, lower bound: -25.35\n",
      "ACONTb uppper bound: 25.35, lower bound: -25.35\n",
      "ATPM uppper bound: 1000.0, lower bound: 8.39\n",
      "PPCK uppper bound: 25.23, lower bound: 0\n",
      "ACt2r uppper bound: 3.23, lower bound: -3.23\n",
      "PPS uppper bound: 2.5, lower bound: 0\n",
      "ADK1 uppper bound: 30.57, lower bound: -30.57\n",
      "AKGDH uppper bound: 24.35, lower bound: 0\n",
      "ATPS4r uppper bound: 60.5, lower bound: -60.5\n",
      "PTAr uppper bound: 4.47, lower bound: -4.47\n",
      "PYK uppper bound: 26.78, lower bound: 0\n",
      "BIOMASS_Ecoli_core_w_GAM uppper bound: 1000.0, lower bound: 0.0\n",
      "PYRt2 uppper bound: 1.26, lower bound: -1.26\n",
      "CO2t uppper bound: 30.45, lower bound: -30.45\n",
      "RPE uppper bound: 5.67, lower bound: -5.67\n",
      "CS uppper bound: 20.56, lower bound: 0\n",
      "RPI uppper bound: 5.56, lower bound: -5.56\n",
      "SUCCt2_2 uppper bound: 2.36, lower bound: 0\n",
      "CYTBD uppper bound: 40.56, lower bound: 0\n",
      "D_LACt2 uppper bound: 4.56, lower bound: -4.56\n",
      "ENO uppper bound: 28.78, lower bound: -28.78\n",
      "SUCCt3 uppper bound: 6.67, lower bound: 0\n",
      "ETOHt2r uppper bound: 2.34, lower bound: -2.34\n",
      "SUCDi uppper bound: 24.34, lower bound: 0\n",
      "SUCOAS uppper bound: 20.6, lower bound: -20.6\n",
      "TALA uppper bound: 4.45, lower bound: -4.45\n",
      "THD2 uppper bound: 4.5, lower bound: 0\n",
      "TKT1 uppper bound: 3.34, lower bound: -3.34\n",
      "TKT2 uppper bound: 3.34, lower bound: -3.34\n",
      "TPI uppper bound: 45.56, lower bound: -45.56\n",
      "EX_ac_e uppper bound: 1000.0, lower bound: 0.0\n",
      "EX_acald_e uppper bound: 1000.0, lower bound: 0.0\n",
      "EX_akg_e uppper bound: 1000.0, lower bound: 0.0\n",
      "EX_co2_e uppper bound: 1000.0, lower bound: -1000.0\n",
      "EX_etoh_e uppper bound: 1000.0, lower bound: 0.0\n",
      "EX_for_e uppper bound: 1000.0, lower bound: 0.0\n",
      "EX_fru_e uppper bound: 1000.0, lower bound: 0.0\n",
      "EX_fum_e uppper bound: 1000.0, lower bound: 0.0\n",
      "EX_glc__D_e uppper bound: 1000.0, lower bound: -10.0\n",
      "EX_gln__L_e uppper bound: 1000.0, lower bound: 0.0\n",
      "EX_glu__L_e uppper bound: 1000.0, lower bound: -1000\n",
      "EX_h_e uppper bound: 1000.0, lower bound: -1000.0\n",
      "EX_h2o_e uppper bound: 1000.0, lower bound: -1000.0\n",
      "EX_lac__D_e uppper bound: 1000.0, lower bound: 0.0\n",
      "EX_mal__L_e uppper bound: 1000.0, lower bound: 0.0\n",
      "EX_nh4_e uppper bound: 1000.0, lower bound: -1000.0\n",
      "EX_o2_e uppper bound: 1000.0, lower bound: -1000.0\n",
      "EX_pi_e uppper bound: 1000.0, lower bound: -1000.0\n",
      "EX_pyr_e uppper bound: 1000.0, lower bound: 0.0\n",
      "EX_succ_e uppper bound: 1000.0, lower bound: 0.0\n",
      "FBA uppper bound: 24.45, lower bound: -24.45\n",
      "FBP uppper bound: 2.35, lower bound: 0\n",
      "FORt2 uppper bound: 1.28, lower bound: 0\n",
      "FORt uppper bound: 2.34, lower bound: 0\n",
      "FRD7 uppper bound: 20.07, lower bound: 0\n",
      "FRUpts2 uppper bound: 10.08, lower bound: 0\n",
      "FUM uppper bound: 24.35, lower bound: -24.35\n",
      "FUMt2_2 uppper bound: 2.45, lower bound: 0\n",
      "G6PDH2r uppper bound: 5.68, lower bound: -5.68\n",
      "GAPD uppper bound: 26.13, lower bound: -26.13\n",
      "GLCpts uppper bound: 16.34, lower bound: 0\n",
      "GLNS uppper bound: 3.45, lower bound: 0\n",
      "GLNabc uppper bound: 0.25, lower bound: 0\n",
      "GLUDy uppper bound: 7.35, lower bound: -7.35\n",
      "GLUN uppper bound: 6.25, lower bound: 0\n",
      "GLUSy uppper bound: 7.35, lower bound: 0\n",
      "GLUt2r uppper bound: 4.12, lower bound: -4.12\n",
      "GND uppper bound: 6.72, lower bound: 0\n",
      "H2Ot uppper bound: 20.06, lower bound: -20.06\n",
      "ICDHyr uppper bound: 15.06, lower bound: -15.06\n",
      "ICL uppper bound: 14.07, lower bound: 0\n",
      "LDH_D uppper bound: 2.07, lower bound: -2.07\n",
      "MALS uppper bound: 9.12, lower bound: 0\n",
      "MALt2_2 uppper bound: 8.87, lower bound: 0\n",
      "MDH uppper bound: 4.26, lower bound: -4.26\n",
      "ME1 uppper bound: 3.24, lower bound: 0\n",
      "ME2 uppper bound: 3.34, lower bound: 0\n",
      "NADH16 uppper bound: 20.26, lower bound: 0\n",
      "NADTRHD uppper bound: 1.26, lower bound: 0\n",
      "NH4t uppper bound: 3.45, lower bound: -3.45\n",
      "O2t uppper bound: 40.67, lower bound: -40.67\n",
      "PDH uppper bound: 32.32, lower bound: 0\n"
     ]
    }
   ],
   "source": [
    "# glucose exhange reaction\n",
    "glucose_ex = model.reactions.get_by_id(\"EX_glu__L_e\")\n",
    "print(glucose_ex.upper_bound)\n",
    "print(glucose_ex.lower_bound)\n",
    "\n",
    "# We just need to change lower bound as upper bound is already 1000\n",
    "\n",
    "glucose_ex.lower_bound = -1000\n",
    "\n",
    "\n",
    "# ATPM \n",
    "atpm = model.reactions.get_by_id(\"ATPM\")\n",
    "\n",
    "for reac in model.reactions:\n",
    "    print(f\"{reac.id} uppper bound: {reac.upper_bound}, lower bound: {reac.lower_bound}\")\n",
    "    \n",
    "                       "
   ]
  },
  {
   "cell_type": "markdown",
   "id": "d08cb4a5-d360-40bd-8631-9629d7b51f26",
   "metadata": {},
   "source": [
    "# Exercise 3"
   ]
  },
  {
   "cell_type": "code",
   "execution_count": null,
   "id": "a7a7d3ce-3c3f-4221-8fa1-5e1fb705c1fe",
   "metadata": {},
   "outputs": [],
   "source": []
  }
 ],
 "metadata": {
  "kernelspec": {
   "display_name": "Python 3 (ipykernel)",
   "language": "python",
   "name": "python3"
  },
  "language_info": {
   "codemirror_mode": {
    "name": "ipython",
    "version": 3
   },
   "file_extension": ".py",
   "mimetype": "text/x-python",
   "name": "python",
   "nbconvert_exporter": "python",
   "pygments_lexer": "ipython3",
   "version": "3.12.7"
  }
 },
 "nbformat": 4,
 "nbformat_minor": 5
}
