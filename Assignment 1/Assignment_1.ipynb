{
 "cells": [
  {
   "cell_type": "markdown",
   "id": "7891b3f6",
   "metadata": {},
   "source": [
    "# Assignment 1 - Group 2"
   ]
  },
  {
   "cell_type": "markdown",
   "id": "dfbcbef7",
   "metadata": {},
   "source": [
    "### Exercise 1\n",
    "\n",
    "**a) In the interactive session, we saw reaction fluxes in a linear pathway being equal to each other due to mass balance constraints. Do you observe the same thing now for the maximal reaction activities? Explain your observations.**\n",
    "\n",
    "What we observed is that maximal reaction activities were generally not equal. The values in the pathway vary significantly. This happens beacuse the maximal activity is the maximum rate a reaction can have. This is determined by the concentration of the enzymes that catalyses the reactions. This is deifferent from what we saw with a linear pathway where all reactions must be equal to maintain the mass balance.\n",
    "\n",
    "**b) Some reactions have no maximal reaction activity data. Identify at least two different kinds of such reactions, and explain why gene expression-derived data would not be applicable for these kinds of reactions.**\n",
    "\n",
    "- Transport reactions: are not directly catalyzed by a single enzyme or gene product. Depend on other properties like concentration gradients which makes gene expression-derived data irrelevant.\n",
    "\n",
    "- Non-enzymatic reactions: occur randomly without an enzyme. Depend on chemical properties of the involved metabolites so we have no genes. An example can be EX_fum_e.\n",
    "\n"
   ]
  },
  {
   "cell_type": "markdown",
   "id": "1d987afa",
   "metadata": {},
   "source": [
    "### Exercise 2"
   ]
  },
  {
   "cell_type": "code",
   "execution_count": 2,
   "id": "f2eefc5c",
   "metadata": {},
   "outputs": [
    {
     "name": "stdout",
     "output_type": "stream",
     "text": [
      "Collecting cobra\n",
      "  Downloading cobra-0.29.1-py2.py3-none-any.whl.metadata (9.3 kB)\n",
      "Requirement already satisfied: appdirs~=1.4 in c:\\users\\anast\\anaconda3\\lib\\site-packages (from cobra) (1.4.4)\n",
      "Collecting depinfo~=2.2 (from cobra)\n",
      "  Downloading depinfo-2.2.0-py3-none-any.whl.metadata (3.8 kB)\n",
      "Collecting diskcache~=5.0 (from cobra)\n",
      "  Downloading diskcache-5.6.3-py3-none-any.whl.metadata (20 kB)\n",
      "Collecting future (from cobra)\n",
      "  Downloading future-1.0.0-py3-none-any.whl.metadata (4.0 kB)\n",
      "Requirement already satisfied: httpx~=0.24 in c:\\users\\anast\\anaconda3\\lib\\site-packages (from cobra) (0.27.0)\n",
      "Collecting importlib-resources (from cobra)\n",
      "  Using cached importlib_resources-6.5.2-py3-none-any.whl.metadata (3.9 kB)\n",
      "Requirement already satisfied: numpy>=1.13 in c:\\users\\anast\\anaconda3\\lib\\site-packages (from cobra) (1.26.4)\n",
      "Collecting optlang~=1.8 (from cobra)\n",
      "  Using cached optlang-1.8.3-py2.py3-none-any.whl.metadata (8.2 kB)\n",
      "Requirement already satisfied: pandas<3.0,>=1.0 in c:\\users\\anast\\anaconda3\\lib\\site-packages (from cobra) (2.2.3)\n",
      "Requirement already satisfied: pydantic>=1.6 in c:\\users\\anast\\anaconda3\\lib\\site-packages (from cobra) (2.8.2)\n",
      "Collecting python-libsbml~=5.19 (from cobra)\n",
      "  Downloading python_libsbml-5.20.5-cp312-cp312-win_amd64.whl.metadata (685 bytes)\n",
      "Requirement already satisfied: rich>=8.0 in c:\\users\\anast\\anaconda3\\lib\\site-packages (from cobra) (13.7.1)\n",
      "Requirement already satisfied: ruamel.yaml~=0.16 in c:\\users\\anast\\anaconda3\\lib\\site-packages (from cobra) (0.18.6)\n",
      "Collecting swiglpk (from cobra)\n",
      "  Downloading swiglpk-5.0.12-cp312-cp312-win_amd64.whl.metadata (5.7 kB)\n",
      "Requirement already satisfied: anyio in c:\\users\\anast\\anaconda3\\lib\\site-packages (from httpx~=0.24->cobra) (4.2.0)\n",
      "Requirement already satisfied: certifi in c:\\users\\anast\\anaconda3\\lib\\site-packages (from httpx~=0.24->cobra) (2025.4.26)\n",
      "Requirement already satisfied: httpcore==1.* in c:\\users\\anast\\anaconda3\\lib\\site-packages (from httpx~=0.24->cobra) (1.0.2)\n",
      "Requirement already satisfied: idna in c:\\users\\anast\\anaconda3\\lib\\site-packages (from httpx~=0.24->cobra) (3.10)\n",
      "Requirement already satisfied: sniffio in c:\\users\\anast\\anaconda3\\lib\\site-packages (from httpx~=0.24->cobra) (1.3.0)\n",
      "Requirement already satisfied: h11<0.15,>=0.13 in c:\\users\\anast\\anaconda3\\lib\\site-packages (from httpcore==1.*->httpx~=0.24->cobra) (0.14.0)\n",
      "Requirement already satisfied: sympy>=1.12.0 in c:\\users\\anast\\anaconda3\\lib\\site-packages (from optlang~=1.8->cobra) (1.14.0)\n",
      "Requirement already satisfied: python-dateutil>=2.8.2 in c:\\users\\anast\\anaconda3\\lib\\site-packages (from pandas<3.0,>=1.0->cobra) (2.9.0.post0)\n",
      "Requirement already satisfied: pytz>=2020.1 in c:\\users\\anast\\anaconda3\\lib\\site-packages (from pandas<3.0,>=1.0->cobra) (2025.2)\n",
      "Requirement already satisfied: tzdata>=2022.7 in c:\\users\\anast\\anaconda3\\lib\\site-packages (from pandas<3.0,>=1.0->cobra) (2025.2)\n",
      "Requirement already satisfied: annotated-types>=0.4.0 in c:\\users\\anast\\anaconda3\\lib\\site-packages (from pydantic>=1.6->cobra) (0.6.0)\n",
      "Requirement already satisfied: pydantic-core==2.20.1 in c:\\users\\anast\\anaconda3\\lib\\site-packages (from pydantic>=1.6->cobra) (2.20.1)\n",
      "Requirement already satisfied: typing-extensions>=4.6.1 in c:\\users\\anast\\anaconda3\\lib\\site-packages (from pydantic>=1.6->cobra) (4.13.2)\n",
      "Requirement already satisfied: markdown-it-py>=2.2.0 in c:\\users\\anast\\anaconda3\\lib\\site-packages (from rich>=8.0->cobra) (2.2.0)\n",
      "Requirement already satisfied: pygments<3.0.0,>=2.13.0 in c:\\users\\anast\\anaconda3\\lib\\site-packages (from rich>=8.0->cobra) (2.15.1)\n",
      "Requirement already satisfied: ruamel.yaml.clib>=0.2.7 in c:\\users\\anast\\anaconda3\\lib\\site-packages (from ruamel.yaml~=0.16->cobra) (0.2.8)\n",
      "Requirement already satisfied: mdurl~=0.1 in c:\\users\\anast\\anaconda3\\lib\\site-packages (from markdown-it-py>=2.2.0->rich>=8.0->cobra) (0.1.0)\n",
      "Requirement already satisfied: six>=1.5 in c:\\users\\anast\\anaconda3\\lib\\site-packages (from python-dateutil>=2.8.2->pandas<3.0,>=1.0->cobra) (1.17.0)\n",
      "Requirement already satisfied: mpmath<1.4,>=1.1.0 in c:\\users\\anast\\anaconda3\\lib\\site-packages (from sympy>=1.12.0->optlang~=1.8->cobra) (1.3.0)\n",
      "Downloading cobra-0.29.1-py2.py3-none-any.whl (1.2 MB)\n",
      "   ---------------------------------------- 0.0/1.2 MB ? eta -:--:--\n",
      "   -------- ------------------------------- 0.3/1.2 MB ? eta -:--:--\n",
      "   ----------------- ---------------------- 0.5/1.2 MB 1.1 MB/s eta 0:00:01\n",
      "   ----------------------------------- ---- 1.0/1.2 MB 1.6 MB/s eta 0:00:01\n",
      "   ---------------------------------------- 1.2/1.2 MB 1.6 MB/s eta 0:00:00\n",
      "Downloading depinfo-2.2.0-py3-none-any.whl (24 kB)\n",
      "Using cached diskcache-5.6.3-py3-none-any.whl (45 kB)\n",
      "Downloading optlang-1.8.3-py2.py3-none-any.whl (141 kB)\n",
      "Downloading python_libsbml-5.20.5-cp312-cp312-win_amd64.whl (6.0 MB)\n",
      "   ---------------------------------------- 0.0/6.0 MB ? eta -:--:--\n",
      "   --- ------------------------------------ 0.5/6.0 MB 2.8 MB/s eta 0:00:02\n",
      "   ------ --------------------------------- 1.0/6.0 MB 2.8 MB/s eta 0:00:02\n",
      "   ------------- -------------------------- 2.1/6.0 MB 3.5 MB/s eta 0:00:02\n",
      "   -------------------- ------------------- 3.1/6.0 MB 3.7 MB/s eta 0:00:01\n",
      "   --------------------------- ------------ 4.2/6.0 MB 3.9 MB/s eta 0:00:01\n",
      "   --------------------------------- ------ 5.0/6.0 MB 3.9 MB/s eta 0:00:01\n",
      "   ---------------------------------------- 6.0/6.0 MB 4.1 MB/s eta 0:00:00\n",
      "Downloading swiglpk-5.0.12-cp312-cp312-win_amd64.whl (584 kB)\n",
      "   ---------------------------------------- 0.0/585.0 kB ? eta -:--:--\n",
      "   ---------------------------------------- 585.0/585.0 kB 1.7 MB/s eta 0:00:00\n",
      "Downloading future-1.0.0-py3-none-any.whl (491 kB)\n",
      "Using cached importlib_resources-6.5.2-py3-none-any.whl (37 kB)\n",
      "Installing collected packages: swiglpk, python-libsbml, importlib-resources, future, diskcache, depinfo, optlang, cobra\n",
      "Successfully installed cobra-0.29.1 depinfo-2.2.0 diskcache-5.6.3 future-1.0.0 importlib-resources-6.5.2 optlang-1.8.3 python-libsbml-5.20.5 swiglpk-5.0.12\n"
     ]
    }
   ],
   "source": [
    "!pip install cobra\n",
    "import cobra\n",
    "import pandas as pd"
   ]
  },
  {
   "cell_type": "code",
   "execution_count": 3,
   "id": "154937e6",
   "metadata": {},
   "outputs": [],
   "source": [
    "model = cobra.io.load_json_model('e_coli_core.json')\n",
    "df = pd.read_csv('e_coli_core_expression.csv')"
   ]
  },
  {
   "cell_type": "code",
   "execution_count": 4,
   "id": "16956ca1",
   "metadata": {},
   "outputs": [],
   "source": [
    "mapping = dict(zip(df[\"# Reaction ID\"], df[\" reaction activity [mmol/gDW/h] \"]))"
   ]
  },
  {
   "cell_type": "code",
   "execution_count": 5,
   "id": "caf7380a",
   "metadata": {},
   "outputs": [],
   "source": [
    "#Reversible/Irreversible reactions, lower and upper bounds\n",
    "DEFAULT_HIGH = 1000.0\n",
    "changed = []\n",
    "unchanged = []\n",
    "\n",
    "for reaction in model.reactions:\n",
    "    #glucose exchange reaction\n",
    "    if reaction.id == \"EX_glc__D_e\":\n",
    "        reaction.lower_bound = -DEFAULT_HIGH\n",
    "        reaction.upper_bound =  DEFAULT_HIGH\n",
    "        changed.append((reaction.id, \"special: EX_glc__D_e set to ±1000\"))\n",
    "        continue\n",
    "\n",
    "    #ATP maintenance\n",
    "    if reaction.id == \"ATPM\":\n",
    "        if reaction.id in mapping:\n",
    "            val = mapping[reaction.id]\n",
    "            reaction.upper_bound = val\n",
    "            changed.append((reaction.id, f\"ATPM: lower preserved, upper set to {val}\"))\n",
    "        else:\n",
    "            unchanged.append(reaction.id)\n",
    "        continue\n",
    "\n",
    "    if reaction.id in mapping:\n",
    "        val = float(mapping[reaction.id])\n",
    "        if reaction.lower_bound < 0:\n",
    "            #reversible reaction\n",
    "            reaction.lower_bound = -val\n",
    "            reaction.upper_bound =  val\n",
    "            changed.append((reaction.id, f\"reversible set to ±{val}\"))\n",
    "        else:\n",
    "            #irreversible reaction\n",
    "            reaction.lower_bound = 0.0\n",
    "            reaction.upper_bound =  val\n",
    "            changed.append((reaction.id, f\"irreversible set to [0, {val}]\"))\n",
    "    else:\n",
    "        #no data\n",
    "        unchanged.append(reaction.id)"
   ]
  },
  {
   "cell_type": "code",
   "execution_count": 6,
   "id": "a150d2fc",
   "metadata": {},
   "outputs": [
    {
     "name": "stdout",
     "output_type": "stream",
     "text": [
      "PFK\t0.0\t12.12\n",
      "PFL\t0.0\t1.0\n",
      "PGI\t-13.12\t13.12\n",
      "PGK\t-23.13\t23.13\n",
      "PGL\t0.0\t8.12\n",
      "ACALD\t-1.16\t1.16\n",
      "AKGt2r\t-3.1\t3.1\n",
      "PGM\t-20.01\t20.01\n",
      "PIt2r\t-6.03\t6.03\n",
      "ALCD2x\t-9.01\t9.01\n",
      "ACALDt\t-2.29\t2.29\n",
      "ACKr\t-1.19\t1.19\n",
      "PPC\t0.0\t2.56\n",
      "ACONTa\t-25.35\t25.35\n",
      "ACONTb\t-25.35\t25.35\n",
      "ATPM\t8.39\t1000.0\n",
      "PPCK\t0.0\t25.23\n",
      "ACt2r\t-3.23\t3.23\n",
      "PPS\t0.0\t2.5\n",
      "ADK1\t-30.57\t30.57\n"
     ]
    }
   ],
   "source": [
    "rows = []\n",
    "for reaction in model.reactions:\n",
    "    rows.append((reaction.id, reaction.lower_bound, reaction.upper_bound))\n",
    "\n",
    "for r in rows[:20]:\n",
    "    print(f\"{r[0]}\\t{r[1]}\\t{r[2]}\")"
   ]
  },
  {
   "cell_type": "markdown",
   "id": "59f654ac",
   "metadata": {},
   "source": [
    "### Exercise 3\n",
    "\n",
    "**a) Carry out an FVA for all reactions in the model and print out the resulting minimal and maximal fluxes\n",
    "per reaction (simple printout sufficient).**"
   ]
  },
  {
   "cell_type": "code",
   "execution_count": 8,
   "id": "e8f43dff",
   "metadata": {},
   "outputs": [
    {
     "name": "stdout",
     "output_type": "stream",
     "text": [
      "Reaction ID\tMin Flux\tMax Flux\n",
      "PFK\t0.3346774193548387\t11.153555525746384\n",
      "PFL\t0.0\t1.0\n",
      "PGI\t-0.08532258064516074\t9.020350656890786\n",
      "PGK\t-17.596001612302814\t-0.879354838709676\n",
      "PGL\t0.0\t4.522387640638964\n",
      "ACALD\t-1.16\t0.0\n",
      "AKGt2r\t-3.1\t0.0\n",
      "PGM\t-17.038932281976656\t-0.8793548387096765\n",
      "PIt2r\t0.0\t1.7830772865042592\n",
      "ALCD2x\t-1.16\t0.0\n",
      "ACALDt\t-1.16\t0.0\n",
      "ACKr\t-1.19\t0.0\n",
      "PPC\t0.0\t2.56\n",
      "ACONTa\t-2.05779213860328e-16\t5.775555555555558\n",
      "ACONTb\t0.0\t5.775555555555557\n",
      "ATPM\t8.39\t39.983750000000015\n",
      "PPCK\t0.0\t4.690000000000002\n",
      "ACt2r\t-1.19\t0.0\n",
      "PPS\t0.0\t2.5\n",
      "ADK1\t0.0\t2.5\n",
      "AKGDH\t0.0\t4.126039421977849\n",
      "ATPS4r\t0.42666666666666864\t27.640999999999995\n",
      "PTAr\t2.5743667056490966e-16\t1.19\n",
      "PYK\t0.0\t9.232\n",
      "BIOMASS_Ecoli_core_w_GAM\t0.0\t0.48470309797054584\n",
      "PYRt2\t-1.26\t0.0\n",
      "CO2t\t-13.674766918501094\t1.61533333333333\n",
      "RPE\t-0.34620184843504465\t2.6885712014932817\n",
      "CS\t4.11558427720656e-16\t5.775555555555558\n",
      "RPI\t-1.833816439145686\t0.0\n",
      "SUCCt2_2\t0.0\t2.36\n",
      "CYTBD\t0.9999999999999949\t24.51200000000001\n",
      "D_LACt2\t-2.0700000000000003\t0.0\n",
      "ENO\t0.8793548387096786\t17.038932281976656\n",
      "SUCCt3\t0.0\t6.67\n",
      "ETOHt2r\t-1.1599999999999997\t0.0\n",
      "SUCDi\t0.0\t24.322000000000003\n",
      "SUCOAS\t-4.126039421977847\t0.0\n",
      "TALA\t-0.08616515120343546\t1.4262372946170052\n",
      "THD2\t0.0\t4.5\n",
      "TKT1\t-0.08616515120343543\t1.4262372946170054\n",
      "TKT2\t-0.26003669723160877\t1.2623339068762753\n",
      "TPI\t0.33467741935483825\t8.803555525746381\n",
      "EX_ac_e\t0.0\t1.19\n",
      "EX_acald_e\t0.0\t1.1599999999999997\n",
      "EX_akg_e\t0.0\t3.1000000000000005\n",
      "EX_co2_e\t-1.6153333333333346\t13.674766918501113\n",
      "EX_etoh_e\t0.0\t1.16\n",
      "EX_for_e\t0.0\t1.0\n",
      "EX_fru_e\t0.0\t0.0\n",
      "EX_fum_e\t0.0\t0.0\n",
      "EX_glc__D_e\t-9.493299814114787\t-0.4794285714285698\n",
      "EX_gln__L_e\t0.0\t0.0\n",
      "EX_glu__L_e\t0.0\t3.4500000000000006\n",
      "EX_h_e\t4.7346351231705704e-14\t21.802165750892723\n",
      "EX_h2o_e\t0.5379999999999973\t18.59087349355403\n",
      "EX_lac__D_e\t0.0\t2.0700000000000003\n",
      "EX_mal__L_e\t0.0\t0.0\n",
      "EX_nh4_e\t-3.45\t3.0500334881427577e-15\n",
      "EX_o2_e\t-12.256\t-0.5000000000000043\n",
      "EX_pi_e\t-1.783077286504234\t0.0\n",
      "EX_pyr_e\t0.0\t1.2599999999999998\n",
      "EX_succ_e\t0.0\t6.67\n",
      "FBA\t0.3346774193548389\t8.803555525746381\n",
      "FBP\t0.0\t2.35\n",
      "FORt2\t0.0\t1.28\n",
      "FORt\t-2.2800000000000002\t0.0\n",
      "FRD7\t0.0\t20.07\n",
      "FRUpts2\t0.0\t0.0\n",
      "FUM\t-2.5599999999999996\t4.252000000000002\n",
      "FUMt2_2\t0.0\t0.0\n",
      "G6PDH2r\t0.0\t4.52238764063897\n",
      "GAPD\t0.8793548387096771\t17.596001612302814\n",
      "GLCpts\t0.47942857142857154\t9.493299814114787\n",
      "GLNS\t0.0\t3.45\n",
      "GLNabc\t0.0\t0.0\n",
      "GLUDy\t-3.4500000000000015\t3.45\n",
      "GLUN\t0.0\t3.45\n",
      "GLUSy\t0.0\t3.4500000000000006\n",
      "GLUt2r\t-3.45\t0.0\n",
      "GND\t0.0\t4.522387640638969\n",
      "H2Ot\t-18.59087349355402\t-0.5380000000000055\n",
      "ICDHyr\t3.987053314654254e-16\t5.20213051673949\n",
      "ICL\t0.0\t4.252\n",
      "LDH_D\t-2.07\t0.0\n",
      "MALS\t0.0\t4.252000000000002\n",
      "MALt2_2\t0.0\t0.0\n",
      "MDH\t-2.559999999999999\t4.26\n",
      "ME1\t0.0\t3.24\n",
      "ME2\t0.0\t3.34\n",
      "NADH16\t1.831111111111111\t20.26\n",
      "NADTRHD\t0.0\t1.26\n",
      "NH4t\t0.0\t3.45\n",
      "O2t\t0.49999999999999933\t12.256000000000002\n",
      "PDH\t0.0\t10.931106848625241\n"
     ]
    }
   ],
   "source": [
    "from cobra.flux_analysis import flux_variability_analysis\n",
    "\n",
    "FVA_results = flux_variability_analysis(model=model, reaction_list=model.reactions, loopless=False, fraction_of_optimum=0.0)\n",
    "\n",
    "print(\"Reaction ID\\tMin Flux\\tMax Flux\")\n",
    "for rxn_id, row in FVA_results.iterrows():\n",
    "    print(f\"{rxn_id}\\t{row['minimum']}\\t{row['maximum']}\")\n"
   ]
  },
  {
   "cell_type": "markdown",
   "id": "0a684266",
   "metadata": {},
   "source": [
    "**b) Identify any reactions with gene expression-imposed maximal reaction activities, whose permissible\n",
    "flux range in forward direction is nonzero yet comes out less than its upper flux bound. State their number and explain why a set of reactions behaves this way. (You can ignore reaction FORt here which as seen\n",
    "in the practical has a nonconventional direction definition.)**"
   ]
  },
  {
   "cell_type": "code",
   "execution_count": null,
   "id": "e8c826b4",
   "metadata": {},
   "outputs": [
    {
     "name": "stdout",
     "output_type": "stream",
     "text": [
      "# reactions meeting criterion: 36\n",
      "Reaction ID\tFVA max\tUpper bound\n",
      "PFK\t11.153555525746384\t12.12\n",
      "PGI\t9.020350656890786\t13.12\n",
      "PGL\t4.522387640638964\t8.12\n",
      "PIt2r\t1.7830772865042592\t6.03\n",
      "ACONTa\t5.775555555555558\t25.35\n",
      "ACONTb\t5.775555555555557\t25.35\n",
      "PPCK\t4.690000000000002\t25.23\n",
      "ADK1\t2.5\t30.57\n",
      "AKGDH\t4.126039421977849\t24.35\n",
      "ATPS4r\t27.640999999999995\t60.5\n",
      "PTAr\t1.19\t4.47\n",
      "PYK\t9.232\t26.78\n",
      "CO2t\t1.61533333333333\t30.45\n",
      "RPE\t2.6885712014932817\t5.67\n",
      "CS\t5.775555555555558\t20.56\n",
      "CYTBD\t24.51200000000001\t40.56\n",
      "ENO\t17.038932281976656\t28.78\n",
      "SUCDi\t24.322000000000003\t24.34\n",
      "TALA\t1.4262372946170052\t4.45\n",
      "TKT1\t1.4262372946170054\t3.34\n",
      "TKT2\t1.2623339068762753\t3.34\n",
      "TPI\t8.803555525746381\t45.56\n",
      "FBA\t8.803555525746381\t24.45\n",
      "FUM\t4.252000000000002\t24.35\n",
      "G6PDH2r\t4.52238764063897\t5.68\n",
      "GAPD\t17.596001612302814\t26.13\n",
      "GLCpts\t9.493299814114787\t16.34\n",
      "GLUDy\t3.45\t7.35\n",
      "GLUN\t3.45\t6.25\n",
      "GLUSy\t3.4500000000000006\t7.35\n",
      "GND\t4.522387640638969\t6.72\n",
      "ICDHyr\t5.20213051673949\t15.06\n",
      "ICL\t4.252\t14.07\n",
      "MALS\t4.252000000000002\t9.12\n",
      "O2t\t12.256000000000002\t40.67\n",
      "PDH\t10.931106848625241\t32.32\n"
     ]
    }
   ],
   "source": [
    "violations = []\n",
    "\n",
    "for rxn_id, row in FVA_results.iterrows():\n",
    "    if rxn_id == \"FORt\":\n",
    "        continue\n",
    "    if rxn_id in mapping: \n",
    "        rxn = model.reactions.get_by_id(rxn_id)\n",
    "        if row[\"maximum\"] > 0 and row[\"maximum\"] < rxn.upper_bound:\n",
    "            violations.append((rxn_id, row[\"maximum\"], rxn.upper_bound))\n",
    "\n",
    "print(f\"# reactions meeting criterion: {len(violations)}\")\n",
    "print(\"Reaction ID\\tFVA max\\tUpper bound\")\n",
    "for rxn_id, fva_max, ub in violations:\n",
    "    print(f\"{rxn_id}\\t{fva_max}\\t{ub}\")"
   ]
  },
  {
   "cell_type": "markdown",
   "id": "d76f3670",
   "metadata": {},
   "source": [
    "Some reactions with expression-based upper bounds show a smaller FVA maximum than that bound, because other reactions in the network restrict the flux. Substrates may be limited, products may not be demanded, or mass balance with neighboring reactions caps the feasible flow. So even though the individual bound is higher, the network as a whole prevents the reaction from reaching it."
   ]
  },
  {
   "cell_type": "markdown",
   "id": "9e3cacb3",
   "metadata": {},
   "source": [
    "**c) How many reactions have a positive minimal flux in the FVA? State their number and explain why a\n",
    "set of reactions behaves this way.**"
   ]
  },
  {
   "cell_type": "code",
   "execution_count": 10,
   "id": "5d6fd9d7",
   "metadata": {},
   "outputs": [
    {
     "name": "stdout",
     "output_type": "stream",
     "text": [
      "# reactions with positive minimal flux: 16\n",
      "Reaction ID\tMin Flux\tMax Flux\n",
      "PFK\t0.3346774193548387\t11.153555525746384\n",
      "ATPM\t8.39\t39.983750000000015\n",
      "ATPS4r\t0.42666666666666864\t27.640999999999995\n",
      "PTAr\t2.5743667056490966e-16\t1.19\n",
      "CS\t4.11558427720656e-16\t5.775555555555558\n",
      "CYTBD\t0.9999999999999949\t24.51200000000001\n",
      "ENO\t0.8793548387096786\t17.038932281976656\n",
      "TPI\t0.33467741935483825\t8.803555525746381\n",
      "EX_h_e\t4.7346351231705704e-14\t21.802165750892723\n",
      "EX_h2o_e\t0.5379999999999973\t18.59087349355403\n",
      "FBA\t0.3346774193548389\t8.803555525746381\n",
      "GAPD\t0.8793548387096771\t17.596001612302814\n",
      "GLCpts\t0.47942857142857154\t9.493299814114787\n",
      "ICDHyr\t3.987053314654254e-16\t5.20213051673949\n",
      "NADH16\t1.831111111111111\t20.26\n",
      "O2t\t0.49999999999999933\t12.256000000000002\n"
     ]
    }
   ],
   "source": [
    "positive_min = []\n",
    "\n",
    "for rxn_id, row in FVA_results.iterrows():\n",
    "    if row[\"minimum\"] > 0:\n",
    "        positive_min.append((rxn_id, row[\"minimum\"], row[\"maximum\"]))\n",
    "\n",
    "print(f\"# reactions with positive minimal flux: {len(positive_min)}\")\n",
    "print(\"Reaction ID\\tMin Flux\\tMax Flux\")\n",
    "for rxn_id, vmin, vmax in positive_min:\n",
    "    print(f\"{rxn_id}\\t{vmin}\\t{vmax}\")\n"
   ]
  },
  {
   "cell_type": "markdown",
   "id": "fd8026db",
   "metadata": {},
   "source": [
    "Some reactions always have a positive minimal flux, because they are essential for the cell. They either have a required lower bound (like ATP maintenance) or the network forces them to run to keep balances and produce key compounds."
   ]
  },
  {
   "cell_type": "markdown",
   "id": "5c94ea6e",
   "metadata": {},
   "source": [
    "### Exercise 4\n",
    "\n",
    "**a) Carry out an FBA optimization of biomass and report the maximal biomass production rate in the\n",
    "presence of the implemented constraints.**"
   ]
  },
  {
   "cell_type": "code",
   "execution_count": null,
   "id": "f5433826",
   "metadata": {},
   "outputs": [
    {
     "name": "stdout",
     "output_type": "stream",
     "text": [
      "Maximal biomass production rate: 0.48470309797054517\n"
     ]
    }
   ],
   "source": [
    "print(\"Maximal biomass production rate:\", model.optimize().objective_value) \n",
    "#all flux constraints alr applied in the current state of the model"
   ]
  },
  {
   "cell_type": "markdown",
   "id": "b0be8435",
   "metadata": {},
   "source": [
    "**b) Determine the “bottleneck(s)” – i. e. those reaction(s) whose flux reaches its maximum.**"
   ]
  },
  {
   "cell_type": "code",
   "execution_count": 14,
   "id": "a633d32b",
   "metadata": {},
   "outputs": [
    {
     "name": "stdout",
     "output_type": "stream",
     "text": [
      "Bottleneck reactions:\n",
      "PFL\tflux=1.0\tupper bound=1.0\n",
      "THD2\tflux=4.5\tupper bound=4.5\n",
      "NADH16\tflux=20.26\tupper bound=20.26\n"
     ]
    }
   ],
   "source": [
    "solution = model.optimize()\n",
    "\n",
    "bottlenecks = []\n",
    "\n",
    "for reaction in model.reactions:\n",
    "    flux = solution.fluxes[reaction.id]\n",
    "    if flux == reaction.upper_bound:\n",
    "        bottlenecks.append((reaction.id, flux, reaction.upper_bound))\n",
    "\n",
    "print(\"Bottleneck reactions:\")\n",
    "for rxn_id, flux, ub in bottlenecks:\n",
    "    print(f\"{rxn_id}\\tflux={flux}\\tupper bound={ub}\")\n"
   ]
  },
  {
   "cell_type": "markdown",
   "id": "ffbd2ed0",
   "metadata": {},
   "source": [
    "**c) The model does not use (have non-zero flux for) all reactions in the model constrained with maximal\n",
    "reaction activities. Pick a reaction with maximal reaction activity constraints and zero flux in the optimal\n",
    "solution, and explain from the network context why it carries not carry flux. (Hint: Use the online demo again.)**"
   ]
  },
  {
   "cell_type": "code",
   "execution_count": 16,
   "id": "0dadab85",
   "metadata": {},
   "outputs": [
    {
     "name": "stdout",
     "output_type": "stream",
     "text": [
      "Constrained reactions with zero flux in optimum:\n",
      "AKGt2r\n",
      "ACALDt\n",
      "PPCK\n",
      "PPS\n",
      "ADK1\n",
      "SUCCt2_2\n",
      "SUCCt3\n",
      "FBP\n",
      "FORt2\n",
      "FRD7\n",
      "FRUpts2\n",
      "FUMt2_2\n",
      "GLNabc\n",
      "GLUN\n",
      "GLUSy\n",
      "GLUt2r\n",
      "ICL\n",
      "MALS\n",
      "MALt2_2\n",
      "ME1\n",
      "ME2\n",
      "NADTRHD\n"
     ]
    }
   ],
   "source": [
    "solution = model.optimize()\n",
    "\n",
    "unused_constrained = []\n",
    "\n",
    "for rxn_id in mapping.keys():\n",
    "    flux = solution.fluxes[rxn_id]\n",
    "    if abs(flux) == 0:\n",
    "        unused_constrained.append(rxn_id)\n",
    "\n",
    "print(\"Constrained reactions with zero flux in optimum:\")\n",
    "for rxn_id in unused_constrained:\n",
    "    print(rxn_id)\n"
   ]
  },
  {
   "cell_type": "markdown",
   "id": "0fb47608",
   "metadata": {},
   "source": [
    "AKGt2r has zero flux because the model does not need to transport α-ketoglutarate. It is already made inside the cell and there is no uptake from outside, so the transporter is unused."
   ]
  }
 ],
 "metadata": {
  "kernelspec": {
   "display_name": "base",
   "language": "python",
   "name": "python3"
  },
  "language_info": {
   "codemirror_mode": {
    "name": "ipython",
    "version": 3
   },
   "file_extension": ".py",
   "mimetype": "text/x-python",
   "name": "python",
   "nbconvert_exporter": "python",
   "pygments_lexer": "ipython3",
   "version": "3.12.3"
  }
 },
 "nbformat": 4,
 "nbformat_minor": 5
}
