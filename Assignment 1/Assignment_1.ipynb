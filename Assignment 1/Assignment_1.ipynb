{
 "cells": [
  {
   "cell_type": "markdown",
   "id": "43c36df6",
   "metadata": {},
   "source": [
    "Assignment 1 - Group 2"
   ]
  },
  {
   "cell_type": "markdown",
   "id": "dfbcbef7",
   "metadata": {},
   "source": [
    "Exercise 1\n",
    "\n",
    "a)In the interactive session, we saw reaction fluxes in a linear pathway being equal to each other due to mass balance constraints. Do you observe the same thing now for the maximal reaction activities? Explain your observations.\n",
    "\n",
    "What we observed is that maximal reaction activities were generally not equal. The values in the pathway vary significantly. This happens beacuse the maximal activity is the maximum rate a reaction can have. This is determined by the concentration of the enzymes that catalyses the reactions. This is deifferent from what we saw with a linear pathway where all reactions must be equal to maintain the mass balance.\n",
    "\n",
    "b)Some reactions have no maximal reaction activity data. Identify at least two different kinds of such reactions, and explain why gene expression-derived data would not be applicable for these kinds of reactions\n",
    "\n",
    "- Transport reactions: are not directly catalyzed by a single enzyme or gene product. Depend on other properties like concentration gradients which makes gene expression-derived data irrelevant.\n",
    "\n",
    "- Non-enzymatic reactions: occur randomly without an enzyme. Depend on chemical properties of the involved metabolites so we have no genes. An example can be EX_fum_e.\n",
    "\n"
   ]
  },
  {
   "cell_type": "markdown",
   "id": "1d987afa",
   "metadata": {},
   "source": [
    "Exercise 2"
   ]
  },
  {
   "cell_type": "code",
   "execution_count": null,
   "id": "f2eefc5c",
   "metadata": {},
   "outputs": [],
   "source": [
    "import cobra\n",
    "import pandas as pd"
   ]
  },
  {
   "cell_type": "code",
   "execution_count": 6,
   "id": "154937e6",
   "metadata": {},
   "outputs": [],
   "source": [
    "model = cobra.io.load_json_model('e_coli_core.json')\n",
    "df = pd.read_csv('e_coli_core_expression.csv')"
   ]
  },
  {
   "cell_type": "code",
   "execution_count": 8,
   "id": "16956ca1",
   "metadata": {},
   "outputs": [],
   "source": [
    "mapping = dict(zip(df[\"# Reaction ID\"], df[\" reaction activity [mmol/gDW/h] \"]))"
   ]
  },
  {
   "cell_type": "code",
   "execution_count": 9,
   "id": "caf7380a",
   "metadata": {},
   "outputs": [],
   "source": [
    "#Reversible/Irreversible reactions, lower and upper bounds\n",
    "DEFAULT_HIGH = 1000.0\n",
    "changed = []\n",
    "unchanged = []\n",
    "\n",
    "for reaction in model.reactions:\n",
    "    #glucose exchange reaction\n",
    "    if reaction.id == \"EX_glc__D_e\":\n",
    "        reaction.lower_bound = -DEFAULT_HIGH\n",
    "        reaction.upper_bound =  DEFAULT_HIGH\n",
    "        changed.append((reaction.id, \"special: EX_glc__D_e set to ±1000\"))\n",
    "        continue\n",
    "\n",
    "    #ATP maintenance\n",
    "    if reaction.id == \"ATPM\":\n",
    "        if reaction.id in mapping:\n",
    "            val = mapping[reaction.id]\n",
    "            reaction.upper_bound = val\n",
    "            changed.append((reaction.id, f\"ATPM: lower preserved, upper set to {val}\"))\n",
    "        else:\n",
    "            unchanged.append(reaction.id)\n",
    "        continue\n",
    "\n",
    "    if reaction.id in mapping:\n",
    "        val = float(mapping[reaction.id])\n",
    "        if reaction.lower_bound < 0:\n",
    "            #reversible reaction\n",
    "            reaction.lower_bound = -val\n",
    "            reaction.upper_bound =  val\n",
    "            changed.append((reaction.id, f\"reversible set to ±{val}\"))\n",
    "        else:\n",
    "            #irreversible reaction\n",
    "            reaction.lower_bound = 0.0\n",
    "            reaction.upper_bound =  val\n",
    "            changed.append((reaction.id, f\"irreversible set to [0, {val}]\"))\n",
    "    else:\n",
    "        #no data\n",
    "        unchanged.append(reaction.id)"
   ]
  },
  {
   "cell_type": "code",
   "execution_count": 10,
   "id": "a150d2fc",
   "metadata": {},
   "outputs": [
    {
     "name": "stdout",
     "output_type": "stream",
     "text": [
      "PFK\t0.0\t12.12\n",
      "PFL\t0.0\t1.0\n",
      "PGI\t-13.12\t13.12\n",
      "PGK\t-23.13\t23.13\n",
      "PGL\t0.0\t8.12\n",
      "ACALD\t-1.16\t1.16\n",
      "AKGt2r\t-3.1\t3.1\n",
      "PGM\t-20.01\t20.01\n",
      "PIt2r\t-6.03\t6.03\n",
      "ALCD2x\t-9.01\t9.01\n",
      "ACALDt\t-2.29\t2.29\n",
      "ACKr\t-1.19\t1.19\n",
      "PPC\t0.0\t2.56\n",
      "ACONTa\t-25.35\t25.35\n",
      "ACONTb\t-25.35\t25.35\n",
      "ATPM\t8.39\t1000.0\n",
      "PPCK\t0.0\t25.23\n",
      "ACt2r\t-3.23\t3.23\n",
      "PPS\t0.0\t2.5\n",
      "ADK1\t-30.57\t30.57\n"
     ]
    }
   ],
   "source": [
    "rows = []\n",
    "for reaction in model.reactions:\n",
    "    rows.append((reaction.id, reaction.lower_bound, reaction.upper_bound))\n",
    "\n",
    "for r in rows[:20]:\n",
    "    print(f\"{r[0]}\\t{r[1]}\\t{r[2]}\")"
   ]
  }
 ],
 "metadata": {
  "kernelspec": {
   "display_name": "Python 3",
   "language": "python",
   "name": "python3"
  },
  "language_info": {
   "codemirror_mode": {
    "name": "ipython",
    "version": 3
   },
   "file_extension": ".py",
   "mimetype": "text/x-python",
   "name": "python",
   "nbconvert_exporter": "python",
   "pygments_lexer": "ipython3",
   "version": "3.12.2"
  }
 },
 "nbformat": 4,
 "nbformat_minor": 5
}
